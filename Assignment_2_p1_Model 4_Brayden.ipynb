{
 "cells": [
  {
   "cell_type": "markdown",
   "metadata": {},
   "source": [
    "<table class=\"table table-bordered\">\n",
    "    <tr>\n",
    "        <th style=\"text-align:center; width:25%\"><img src='https://www.np.edu.sg/PublishingImages/Pages/default/odp/ICT.jpg' style=\"width: 250px; height: 125px; \"></th>\n",
    "        <th style=\"text-align:center;\"><h1>Deep Learning</h1><h2>Assignment 2 (Problem 1) - Sentiment Analysis Model  (Group)</h2><h3>AY2021/22 Semester</h3></th>\n",
    "    </tr>\n",
    "</table>"
   ]
  },
  {
   "cell_type": "code",
   "execution_count": 1,
   "metadata": {},
   "outputs": [
    {
     "name": "stdout",
     "output_type": "stream",
     "text": [
      "keras:  2.2.4-tf\n"
     ]
    },
    {
     "data": {
      "text/html": [
       "<style>.container { width:95% !important; }</style>"
      ],
      "text/plain": [
       "<IPython.core.display.HTML object>"
      ]
     },
     "metadata": {},
     "output_type": "display_data"
    }
   ],
   "source": [
    "# Import the Required Packages\n",
    "from tensorflow import keras\n",
    "print('keras: ', keras.__version__)\n",
    "from IPython.core.display import display, HTML\n",
    "display(HTML(\"<style>.container { width:95% !important; }</style>\"))\n",
    "\n",
    "import numpy as np\n",
    "import pandas as pd\n",
    "import re\n",
    "import string\n",
    "import matplotlib.pyplot as plt\n",
    "import os\n",
    "\n",
    "from tensorflow.keras import preprocessing\n",
    "from tensorflow.keras import regularizers\n",
    "from tensorflow.keras import optimizers\n",
    "from tensorflow.keras import layers\n",
    "from tensorflow.keras.layers import LSTM\n",
    "from tensorflow.keras.layers import GRU\n",
    "from tensorflow.keras.preprocessing.text import Tokenizer\n",
    "from tensorflow.keras.preprocessing.sequence import pad_sequences\n",
    "from sklearn.model_selection import train_test_split\n",
    "from tensorflow.keras.models import Sequential\n",
    "from tensorflow.keras.layers import Flatten, Dense\n",
    "from tensorflow.keras.layers import Embedding\n",
    "from tensorflow.keras.layers import SimpleRNN"
   ]
  },
  {
   "cell_type": "markdown",
   "metadata": {},
   "source": [
    "## Step 1 – Data Loading and Processing (Group)"
   ]
  },
  {
   "cell_type": "markdown",
   "metadata": {},
   "source": [
    "### 1.1 Data Loading"
   ]
  },
  {
   "cell_type": "code",
   "execution_count": 2,
   "metadata": {},
   "outputs": [],
   "source": [
    "# Loading data from CSV file\n",
    "dat = pd.read_csv('spotify_reviews.csv')"
   ]
  },
  {
   "cell_type": "code",
   "execution_count": 3,
   "metadata": {},
   "outputs": [
    {
     "data": {
      "text/html": [
       "<div>\n",
       "<style scoped>\n",
       "    .dataframe tbody tr th:only-of-type {\n",
       "        vertical-align: middle;\n",
       "    }\n",
       "\n",
       "    .dataframe tbody tr th {\n",
       "        vertical-align: top;\n",
       "    }\n",
       "\n",
       "    .dataframe thead th {\n",
       "        text-align: right;\n",
       "    }\n",
       "</style>\n",
       "<table border=\"1\" class=\"dataframe\">\n",
       "  <thead>\n",
       "    <tr style=\"text-align: right;\">\n",
       "      <th></th>\n",
       "      <th>reviewId</th>\n",
       "      <th>userName</th>\n",
       "      <th>userImage</th>\n",
       "      <th>content</th>\n",
       "      <th>score</th>\n",
       "      <th>thumbsUpCount</th>\n",
       "      <th>reviewCreatedVersion</th>\n",
       "      <th>at</th>\n",
       "      <th>replyContent</th>\n",
       "      <th>repliedAt</th>\n",
       "    </tr>\n",
       "  </thead>\n",
       "  <tbody>\n",
       "    <tr>\n",
       "      <th>0</th>\n",
       "      <td>gp:AOqpTOEE7tdqJ-kSHMQtB7drb8K0GZ3gPKagzSlCMKz...</td>\n",
       "      <td>David Slinkard</td>\n",
       "      <td>https://play-lh.googleusercontent.com/a-/AOh14...</td>\n",
       "      <td>Offline mode is terrible and honestly barely e...</td>\n",
       "      <td>2</td>\n",
       "      <td>181</td>\n",
       "      <td>8.6.48.796</td>\n",
       "      <td>2021-08-03 23:00:58</td>\n",
       "      <td>NaN</td>\n",
       "      <td>NaN</td>\n",
       "    </tr>\n",
       "    <tr>\n",
       "      <th>1</th>\n",
       "      <td>gp:AOqpTOF8rjBgB-QS2YpFbdm2Yl-fFyaMPF3XX2Z_CSl...</td>\n",
       "      <td>hailey marie</td>\n",
       "      <td>https://play-lh.googleusercontent.com/a-/AOh14...</td>\n",
       "      <td>yeah, they have good songs &amp; alot of options, ...</td>\n",
       "      <td>1</td>\n",
       "      <td>714</td>\n",
       "      <td>8.6.48.796</td>\n",
       "      <td>2021-08-02 17:37:44</td>\n",
       "      <td>NaN</td>\n",
       "      <td>NaN</td>\n",
       "    </tr>\n",
       "    <tr>\n",
       "      <th>2</th>\n",
       "      <td>gp:AOqpTOGMPgJY5WJ3oyLkW9agfUdIvPiqO2kzsXMi2Oe...</td>\n",
       "      <td>john vanderweide</td>\n",
       "      <td>https://play-lh.googleusercontent.com/a/AATXAJ...</td>\n",
       "      <td>This app used to be amazing. It's dipped in qu...</td>\n",
       "      <td>3</td>\n",
       "      <td>16</td>\n",
       "      <td>8.6.48.796</td>\n",
       "      <td>2021-08-04 20:39:37</td>\n",
       "      <td>NaN</td>\n",
       "      <td>NaN</td>\n",
       "    </tr>\n",
       "    <tr>\n",
       "      <th>3</th>\n",
       "      <td>gp:AOqpTOFMxPkp1wO8bFlJF7L2HEhExjX88_Rg0HL4a1Z...</td>\n",
       "      <td>Driskon</td>\n",
       "      <td>https://play-lh.googleusercontent.com/a-/AOh14...</td>\n",
       "      <td>Spotify is a good app, and I've used it for tw...</td>\n",
       "      <td>5</td>\n",
       "      <td>483</td>\n",
       "      <td>8.6.48.796</td>\n",
       "      <td>2021-08-03 14:05:25</td>\n",
       "      <td>NaN</td>\n",
       "      <td>NaN</td>\n",
       "    </tr>\n",
       "    <tr>\n",
       "      <th>4</th>\n",
       "      <td>gp:AOqpTOGNBH058eBjb4iScFt8-SW3f0HyZHMGv49vPJC...</td>\n",
       "      <td>Devan Hoffer</td>\n",
       "      <td>https://play-lh.googleusercontent.com/a/AATXAJ...</td>\n",
       "      <td>Probably one of the least reliable streaming a...</td>\n",
       "      <td>2</td>\n",
       "      <td>15</td>\n",
       "      <td>8.6.48.796</td>\n",
       "      <td>2021-08-05 00:05:06</td>\n",
       "      <td>NaN</td>\n",
       "      <td>NaN</td>\n",
       "    </tr>\n",
       "  </tbody>\n",
       "</table>\n",
       "</div>"
      ],
      "text/plain": [
       "                                            reviewId          userName  \\\n",
       "0  gp:AOqpTOEE7tdqJ-kSHMQtB7drb8K0GZ3gPKagzSlCMKz...    David Slinkard   \n",
       "1  gp:AOqpTOF8rjBgB-QS2YpFbdm2Yl-fFyaMPF3XX2Z_CSl...      hailey marie   \n",
       "2  gp:AOqpTOGMPgJY5WJ3oyLkW9agfUdIvPiqO2kzsXMi2Oe...  john vanderweide   \n",
       "3  gp:AOqpTOFMxPkp1wO8bFlJF7L2HEhExjX88_Rg0HL4a1Z...           Driskon   \n",
       "4  gp:AOqpTOGNBH058eBjb4iScFt8-SW3f0HyZHMGv49vPJC...      Devan Hoffer   \n",
       "\n",
       "                                           userImage  \\\n",
       "0  https://play-lh.googleusercontent.com/a-/AOh14...   \n",
       "1  https://play-lh.googleusercontent.com/a-/AOh14...   \n",
       "2  https://play-lh.googleusercontent.com/a/AATXAJ...   \n",
       "3  https://play-lh.googleusercontent.com/a-/AOh14...   \n",
       "4  https://play-lh.googleusercontent.com/a/AATXAJ...   \n",
       "\n",
       "                                             content  score  thumbsUpCount  \\\n",
       "0  Offline mode is terrible and honestly barely e...      2            181   \n",
       "1  yeah, they have good songs & alot of options, ...      1            714   \n",
       "2  This app used to be amazing. It's dipped in qu...      3             16   \n",
       "3  Spotify is a good app, and I've used it for tw...      5            483   \n",
       "4  Probably one of the least reliable streaming a...      2             15   \n",
       "\n",
       "  reviewCreatedVersion                   at replyContent repliedAt  \n",
       "0           8.6.48.796  2021-08-03 23:00:58          NaN       NaN  \n",
       "1           8.6.48.796  2021-08-02 17:37:44          NaN       NaN  \n",
       "2           8.6.48.796  2021-08-04 20:39:37          NaN       NaN  \n",
       "3           8.6.48.796  2021-08-03 14:05:25          NaN       NaN  \n",
       "4           8.6.48.796  2021-08-05 00:05:06          NaN       NaN  "
      ]
     },
     "execution_count": 3,
     "metadata": {},
     "output_type": "execute_result"
    }
   ],
   "source": [
    "dat.head()"
   ]
  },
  {
   "cell_type": "code",
   "execution_count": 4,
   "metadata": {},
   "outputs": [
    {
     "name": "stdout",
     "output_type": "stream",
     "text": [
      "<class 'pandas.core.frame.DataFrame'>\n",
      "RangeIndex: 98589 entries, 0 to 98588\n",
      "Data columns (total 10 columns):\n",
      " #   Column                Non-Null Count  Dtype \n",
      "---  ------                --------------  ----- \n",
      " 0   reviewId              98589 non-null  object\n",
      " 1   userName              98589 non-null  object\n",
      " 2   userImage             98589 non-null  object\n",
      " 3   content               98589 non-null  object\n",
      " 4   score                 98589 non-null  int64 \n",
      " 5   thumbsUpCount         98589 non-null  int64 \n",
      " 6   reviewCreatedVersion  98589 non-null  object\n",
      " 7   at                    98589 non-null  object\n",
      " 8   replyContent          893 non-null    object\n",
      " 9   repliedAt             893 non-null    object\n",
      "dtypes: int64(2), object(8)\n",
      "memory usage: 7.5+ MB\n"
     ]
    }
   ],
   "source": [
    "dat.info()"
   ]
  },
  {
   "cell_type": "code",
   "execution_count": 5,
   "metadata": {},
   "outputs": [
    {
     "data": {
      "text/plain": [
       "1    36319\n",
       "5    18610\n",
       "2    17318\n",
       "3    14544\n",
       "4    11798\n",
       "Name: score, dtype: int64"
      ]
     },
     "execution_count": 5,
     "metadata": {},
     "output_type": "execute_result"
    }
   ],
   "source": [
    "dat['score'].value_counts()"
   ]
  },
  {
   "cell_type": "code",
   "execution_count": 6,
   "metadata": {},
   "outputs": [],
   "source": [
    "# Dropping duplicates in the data\n",
    "dat = dat.drop_duplicates(subset=['content'])"
   ]
  },
  {
   "cell_type": "code",
   "execution_count": 7,
   "metadata": {},
   "outputs": [],
   "source": [
    "# Converting content frame into string instead of object\n",
    "dat['content']= dat['content'].apply(str)"
   ]
  },
  {
   "cell_type": "markdown",
   "metadata": {},
   "source": [
    "### 1.2 Data Processing\n"
   ]
  },
  {
   "cell_type": "code",
   "execution_count": 8,
   "metadata": {},
   "outputs": [],
   "source": [
    "import nltk\n",
    "\n",
    "stopwords = nltk.corpus.stopwords.words('english')"
   ]
  },
  {
   "cell_type": "code",
   "execution_count": 9,
   "metadata": {},
   "outputs": [],
   "source": [
    "# Function for cleansing data\n",
    "def pre_process(text):\n",
    "    \n",
    "    # remove stopwords\n",
    "    tokens = re.split('\\W+', text)\n",
    "    text = [word for word in tokens if word not in stopwords]\n",
    "    \n",
    "    # remove punctuation\n",
    "    text = \" \".join([word for word in text if word not in string.punctuation])\n",
    "    \n",
    "    # lower text\n",
    "    text=text.lower()\n",
    "    \n",
    "    return text\n",
    "\n",
    "dat['content_cleaned'] = dat['content'].apply(lambda x:pre_process(x))"
   ]
  },
  {
   "cell_type": "code",
   "execution_count": 10,
   "metadata": {},
   "outputs": [
    {
     "data": {
      "text/plain": [
       "0        offline mode terrible honestly barely even wor...\n",
       "1        yeah good songs alot options ads situation got...\n",
       "2        this app used amazing it dipped quality lot es...\n",
       "3        spotify good app i used two years premium almo...\n",
       "4        probably one least reliable streaming apps sho...\n",
       "                               ...                        \n",
       "46392    good app music shows much ads free version pas...\n",
       "46393    lately i trouble connecting app i need keeo cl...\n",
       "46394    the best ever aap sorry gaana far better ads r...\n",
       "46395    it doesnt let log anymore facebook website let...\n",
       "46396                  i issues app past 2 3 years i using\n",
       "Name: content_cleaned, Length: 22199, dtype: object"
      ]
     },
     "execution_count": 10,
     "metadata": {},
     "output_type": "execute_result"
    }
   ],
   "source": [
    "dat['content_cleaned']"
   ]
  },
  {
   "cell_type": "code",
   "execution_count": 11,
   "metadata": {},
   "outputs": [],
   "source": [
    "X, y = (dat['content_cleaned'].values, dat['score'].values)"
   ]
  },
  {
   "cell_type": "code",
   "execution_count": 12,
   "metadata": {},
   "outputs": [],
   "source": [
    "# Tokenizing the content\n",
    "tk = Tokenizer()\n",
    "tk.fit_on_texts(X)\n",
    "X_seq = tk.texts_to_sequences(X)\n",
    "X_pad = pad_sequences(X_seq, maxlen=30, padding='post')"
   ]
  },
  {
   "cell_type": "code",
   "execution_count": 13,
   "metadata": {},
   "outputs": [],
   "source": [
    "y = dat['score'].map( {1: 0, 2: 1, 3: 2, 4: 3, 5: 4} ).to_numpy()"
   ]
  },
  {
   "cell_type": "markdown",
   "metadata": {},
   "source": [
    "### 1.3 Data Sampling"
   ]
  },
  {
   "cell_type": "code",
   "execution_count": 14,
   "metadata": {},
   "outputs": [],
   "source": [
    "# Split the X & y into train and test sets\n",
    "X_train, X_test, y_train, y_test = train_test_split(X_pad, y, test_size=0.2)"
   ]
  },
  {
   "cell_type": "markdown",
   "metadata": {},
   "source": [
    "## Step 2 – Develop a Sentiment Analysis Model (Individual: One Model Per Student)"
   ]
  },
  {
   "cell_type": "markdown",
   "metadata": {},
   "source": [
    "### Using GloVe Embeddings"
   ]
  },
  {
   "cell_type": "code",
   "execution_count": 15,
   "metadata": {},
   "outputs": [
    {
     "name": "stdout",
     "output_type": "stream",
     "text": [
      "Found 400000 word vectors.\n"
     ]
    }
   ],
   "source": [
    "glove_dir = 'C:/Users/Brayden/Documents/NP CSF/Year 2 Semester 1/DL/Week 11/glove.6B/glove.6B'\n",
    "\n",
    "embeddings_index = {}\n",
    "f = open(os.path.join(glove_dir, 'glove.6B.50d.txt'), encoding=\"utf8\")\n",
    "for line in f:\n",
    "    values = line.split()\n",
    "    word = values[0]\n",
    "    coefs = np.asarray(values[1:], dtype='float32')\n",
    "    embeddings_index[word] = coefs\n",
    "f.close()\n",
    "\n",
    "print('Found %s word vectors.' % len(embeddings_index))"
   ]
  },
  {
   "cell_type": "code",
   "execution_count": 16,
   "metadata": {},
   "outputs": [],
   "source": [
    "word_index = tk.word_index\n",
    "max_features = len(tk.word_counts.keys())+1\n",
    "maxlen = 30\n",
    "embedding_dim = 50\n",
    "\n",
    "embedding_matrix = np.zeros((max_features, embedding_dim))\n",
    "for word, i in word_index.items():\n",
    "    embedding_vector = embeddings_index.get(word)\n",
    "    if i < max_features:\n",
    "        if embedding_vector is not None:\n",
    "            # Words not found in embedding index will be all-zeros.\n",
    "            embedding_matrix[i] = embedding_vector"
   ]
  },
  {
   "cell_type": "code",
   "execution_count": 17,
   "metadata": {},
   "outputs": [
    {
     "name": "stdout",
     "output_type": "stream",
     "text": [
      "[[ 0.          0.          0.         ...  0.          0.\n",
      "   0.        ]\n",
      " [ 0.11891     0.15255    -0.082073   ... -0.57511997 -0.26671001\n",
      "   0.92120999]\n",
      " [ 0.40037    -0.79645002  1.37629998 ...  0.18685     1.05229998\n",
      "   0.38187   ]\n",
      " ...\n",
      " [ 0.          0.          0.         ...  0.          0.\n",
      "   0.        ]\n",
      " [ 0.          0.          0.         ...  0.          0.\n",
      "   0.        ]\n",
      " [ 0.          0.          0.         ...  0.          0.\n",
      "   0.        ]]\n"
     ]
    }
   ],
   "source": [
    "print(embedding_matrix)"
   ]
  },
  {
   "cell_type": "markdown",
   "metadata": {},
   "source": [
    "### Base Model 1"
   ]
  },
  {
   "cell_type": "code",
   "execution_count": 208,
   "metadata": {},
   "outputs": [
    {
     "name": "stdout",
     "output_type": "stream",
     "text": [
      "Model: \"sequential_34\"\n",
      "_________________________________________________________________\n",
      "Layer (type)                 Output Shape              Param #   \n",
      "=================================================================\n",
      "embedding_34 (Embedding)     (None, 30, 50)            758750    \n",
      "_________________________________________________________________\n",
      "lstm_66 (LSTM)               (None, 30, 256)           314368    \n",
      "_________________________________________________________________\n",
      "lstm_67 (LSTM)               (None, 30, 256)           525312    \n",
      "_________________________________________________________________\n",
      "gru_34 (GRU)                 (None, 256)               394752    \n",
      "_________________________________________________________________\n",
      "dense_34 (Dense)             (None, 5)                 1285      \n",
      "=================================================================\n",
      "Total params: 1,994,467\n",
      "Trainable params: 1,994,467\n",
      "Non-trainable params: 0\n",
      "_________________________________________________________________\n"
     ]
    }
   ],
   "source": [
    "# Build the Model\n",
    "model = Sequential()\n",
    "model.add(Embedding(max_features, embedding_dim, input_length=maxlen))\n",
    "model.add(LSTM(256, return_sequences=True))\n",
    "model.add(LSTM(256, return_sequences=True))\n",
    "model.add(GRU(256))\n",
    "model.add(Dense(5, activation='softmax'))\n",
    "\n",
    "model.layers[0].set_weights([embedding_matrix])\n",
    "#model.layers[0].trainable = False\n",
    "\n",
    "model.compile(optimizer='rmsprop', loss='sparse_categorical_crossentropy', metrics=['acc'])\n",
    "model.summary()"
   ]
  },
  {
   "cell_type": "code",
   "execution_count": 209,
   "metadata": {
    "scrolled": false
   },
   "outputs": [
    {
     "name": "stdout",
     "output_type": "stream",
     "text": [
      "Train on 14207 samples, validate on 3552 samples\n",
      "Epoch 1/20\n",
      "WARNING:tensorflow:Entity <function Function._initialize_uninitialized_variables.<locals>.initialize_variables at 0x000001D1552B8EE8> could not be transformed and will be executed as-is. Please report this to the AutoGraph team. When filing the bug, set the verbosity to 10 (on Linux, `export AUTOGRAPH_VERBOSITY=10`) and attach the full output. Cause: No module named 'tensorflow_core.estimator'\n"
     ]
    },
    {
     "name": "stderr",
     "output_type": "stream",
     "text": [
      "WARNING:tensorflow:Entity <function Function._initialize_uninitialized_variables.<locals>.initialize_variables at 0x000001D1552B8EE8> could not be transformed and will be executed as-is. Please report this to the AutoGraph team. When filing the bug, set the verbosity to 10 (on Linux, `export AUTOGRAPH_VERBOSITY=10`) and attach the full output. Cause: No module named 'tensorflow_core.estimator'\n"
     ]
    },
    {
     "name": "stdout",
     "output_type": "stream",
     "text": [
      "WARNING: Entity <function Function._initialize_uninitialized_variables.<locals>.initialize_variables at 0x000001D1552B8EE8> could not be transformed and will be executed as-is. Please report this to the AutoGraph team. When filing the bug, set the verbosity to 10 (on Linux, `export AUTOGRAPH_VERBOSITY=10`) and attach the full output. Cause: No module named 'tensorflow_core.estimator'\n",
      "14207/14207 [==============================] - 26s 2ms/sample - loss: 1.3036 - acc: 0.4969 - val_loss: 1.3204 - val_acc: 0.4716\n",
      "Epoch 2/20\n",
      "14207/14207 [==============================] - 12s 852us/sample - loss: 1.1726 - acc: 0.5395 - val_loss: 1.2511 - val_acc: 0.5245\n",
      "Epoch 3/20\n",
      "14207/14207 [==============================] - 13s 922us/sample - loss: 1.1164 - acc: 0.5552 - val_loss: 1.2769 - val_acc: 0.5177\n",
      "Epoch 4/20\n",
      "14207/14207 [==============================] - 13s 905us/sample - loss: 1.0713 - acc: 0.5675 - val_loss: 1.2498 - val_acc: 0.5079\n",
      "Epoch 5/20\n",
      "14207/14207 [==============================] - 13s 915us/sample - loss: 1.0334 - acc: 0.5858 - val_loss: 1.1556 - val_acc: 0.5318\n",
      "Epoch 6/20\n",
      "14207/14207 [==============================] - 14s 974us/sample - loss: 0.9992 - acc: 0.5972 - val_loss: 1.1639 - val_acc: 0.5290\n",
      "Epoch 7/20\n",
      "14207/14207 [==============================] - 12s 869us/sample - loss: 0.9590 - acc: 0.6109 - val_loss: 1.1932 - val_acc: 0.5282\n",
      "Epoch 8/20\n",
      "14207/14207 [==============================] - 12s 850us/sample - loss: 0.9035 - acc: 0.6340 - val_loss: 1.2306 - val_acc: 0.5203\n",
      "Epoch 9/20\n",
      "14207/14207 [==============================] - 13s 896us/sample - loss: 0.8447 - acc: 0.6594 - val_loss: 1.2758 - val_acc: 0.5346\n",
      "Epoch 10/20\n",
      "14207/14207 [==============================] - 13s 911us/sample - loss: 0.7765 - acc: 0.6902 - val_loss: 1.3730 - val_acc: 0.5282\n",
      "Epoch 11/20\n",
      "14207/14207 [==============================] - 13s 911us/sample - loss: 0.6890 - acc: 0.7266 - val_loss: 1.4452 - val_acc: 0.5110\n",
      "Epoch 12/20\n",
      "14207/14207 [==============================] - 13s 926us/sample - loss: 0.5950 - acc: 0.7676 - val_loss: 1.6869 - val_acc: 0.4879\n",
      "Epoch 13/20\n",
      "14207/14207 [==============================] - 13s 943us/sample - loss: 0.5069 - acc: 0.8014 - val_loss: 1.8415 - val_acc: 0.5096\n",
      "Epoch 14/20\n",
      "14207/14207 [==============================] - 12s 852us/sample - loss: 0.4120 - acc: 0.8475 - val_loss: 1.9854 - val_acc: 0.4840\n",
      "Epoch 15/20\n",
      "14207/14207 [==============================] - 11s 766us/sample - loss: 0.3464 - acc: 0.8691 - val_loss: 2.2224 - val_acc: 0.4803\n",
      "Epoch 16/20\n",
      "14207/14207 [==============================] - 11s 746us/sample - loss: 0.2869 - acc: 0.8954 - val_loss: 2.5075 - val_acc: 0.4870\n",
      "Epoch 17/20\n",
      "14207/14207 [==============================] - 11s 773us/sample - loss: 0.2323 - acc: 0.9134 - val_loss: 2.7319 - val_acc: 0.4848\n",
      "Epoch 18/20\n",
      "14207/14207 [==============================] - 11s 765us/sample - loss: 0.1858 - acc: 0.9340 - val_loss: 2.9387 - val_acc: 0.4851\n",
      "Epoch 19/20\n",
      "14207/14207 [==============================] - 11s 768us/sample - loss: 0.1484 - acc: 0.9478 - val_loss: 3.2142 - val_acc: 0.4620\n",
      "Epoch 20/20\n",
      "14207/14207 [==============================] - 11s 749us/sample - loss: 0.1295 - acc: 0.9555 - val_loss: 3.3109 - val_acc: 0.4733\n"
     ]
    }
   ],
   "source": [
    "# Train the Model\n",
    "history = model.fit(X_train, y_train,\n",
    "                    epochs=20,\n",
    "                    batch_size=32,\n",
    "                    validation_split=0.2)"
   ]
  },
  {
   "cell_type": "code",
   "execution_count": 210,
   "metadata": {},
   "outputs": [
    {
     "data": {
      "image/png": "[encoded data removed]",
      "text/plain": [
       "<Figure size 432x288 with 1 Axes>"
      ]
     },
     "metadata": {
      "needs_background": "light"
     },
     "output_type": "display_data"
    },
    {
     "data": {
      "image/png": "[encoded data removed]",
      "text/plain": [
       "<Figure size 432x288 with 1 Axes>"
      ]
     },
     "metadata": {
      "needs_background": "light"
     },
     "output_type": "display_data"
    }
   ],
   "source": [
    "# Plot the Training and Validation Accuracy & Loss Scores\n",
    "%matplotlib inline\n",
    "\n",
    "acc = history.history['acc']\n",
    "val_acc = history.history['val_acc']\n",
    "loss = history.history['loss']\n",
    "val_loss = history.history['val_loss']\n",
    "\n",
    "epochs = range(len(acc))\n",
    "\n",
    "plt.plot(epochs, acc, 'bo', label='Training acc')\n",
    "plt.plot(epochs, val_acc, 'b', label='Validation acc')\n",
    "plt.title('Training and validation accuracy')\n",
    "plt.legend()\n",
    "\n",
    "plt.figure()\n",
    "\n",
    "plt.plot(epochs, loss, 'bo', label='Training loss')\n",
    "plt.plot(epochs, val_loss, 'b', label='Validation loss')\n",
    "plt.title('Training and validation loss')\n",
    "plt.legend()\n",
    "\n",
    "plt.show()"
   ]
  },
  {
   "cell_type": "markdown",
   "metadata": {},
   "source": [
    "### Base Model 2 "
   ]
  },
  {
   "cell_type": "code",
   "execution_count": 23,
   "metadata": {},
   "outputs": [
    {
     "name": "stdout",
     "output_type": "stream",
     "text": [
      "Model: \"sequential_2\"\n",
      "_________________________________________________________________\n",
      "Layer (type)                 Output Shape              Param #   \n",
      "=================================================================\n",
      "embedding_2 (Embedding)      (None, 30, 50)            758750    \n",
      "_________________________________________________________________\n",
      "lstm_4 (LSTM)                (None, 30, 16)            4288      \n",
      "_________________________________________________________________\n",
      "lstm_5 (LSTM)                (None, 30, 16)            2112      \n",
      "_________________________________________________________________\n",
      "gru_2 (GRU)                  (None, 16)                1632      \n",
      "_________________________________________________________________\n",
      "dense_2 (Dense)              (None, 5)                 85        \n",
      "=================================================================\n",
      "Total params: 766,867\n",
      "Trainable params: 766,867\n",
      "Non-trainable params: 0\n",
      "_________________________________________________________________\n"
     ]
    }
   ],
   "source": [
    "# Build the Model\n",
    "model = Sequential()\n",
    "model.add(Embedding(max_features, embedding_dim, input_length=maxlen))\n",
    "model.add(LSTM(16, return_sequences=True))\n",
    "model.add(LSTM(16, return_sequences=True))\n",
    "model.add(GRU(16))\n",
    "model.add(Dense(5, activation='softmax'))\n",
    "\n",
    "model.layers[0].set_weights([embedding_matrix])\n",
    "#model.layers[0].trainable = False\n",
    "\n",
    "model.compile(optimizer='rmsprop', loss='sparse_categorical_crossentropy', metrics=['acc'])\n",
    "model.summary()"
   ]
  },
  {
   "cell_type": "code",
   "execution_count": 24,
   "metadata": {},
   "outputs": [
    {
     "name": "stdout",
     "output_type": "stream",
     "text": [
      "Train on 14207 samples, validate on 3552 samples\n",
      "Epoch 1/20\n",
      "WARNING:tensorflow:Entity <function Function._initialize_uninitialized_variables.<locals>.initialize_variables at 0x0000012964E85708> could not be transformed and will be executed as-is. Please report this to the AutoGraph team. When filing the bug, set the verbosity to 10 (on Linux, `export AUTOGRAPH_VERBOSITY=10`) and attach the full output. Cause: No module named 'tensorflow_core.estimator'\n"
     ]
    },
    {
     "name": "stderr",
     "output_type": "stream",
     "text": [
      "WARNING:tensorflow:Entity <function Function._initialize_uninitialized_variables.<locals>.initialize_variables at 0x0000012964E85708> could not be transformed and will be executed as-is. Please report this to the AutoGraph team. When filing the bug, set the verbosity to 10 (on Linux, `export AUTOGRAPH_VERBOSITY=10`) and attach the full output. Cause: No module named 'tensorflow_core.estimator'\n"
     ]
    },
    {
     "name": "stdout",
     "output_type": "stream",
     "text": [
      "WARNING: Entity <function Function._initialize_uninitialized_variables.<locals>.initialize_variables at 0x0000012964E85708> could not be transformed and will be executed as-is. Please report this to the AutoGraph team. When filing the bug, set the verbosity to 10 (on Linux, `export AUTOGRAPH_VERBOSITY=10`) and attach the full output. Cause: No module named 'tensorflow_core.estimator'\n",
      "14207/14207 [==============================] - 35s 2ms/sample - loss: 1.2939 - acc: 0.4966 - val_loss: 1.2105 - val_acc: 0.5211\n",
      "Epoch 2/20\n",
      "14207/14207 [==============================] - 18s 1ms/sample - loss: 1.1764 - acc: 0.5335 - val_loss: 1.2006 - val_acc: 0.5239\n",
      "Epoch 3/20\n",
      "14207/14207 [==============================] - 16s 1ms/sample - loss: 1.1315 - acc: 0.5457 - val_loss: 1.1523 - val_acc: 0.5239\n",
      "Epoch 4/20\n",
      "14207/14207 [==============================] - 15s 1ms/sample - loss: 1.0938 - acc: 0.5571 - val_loss: 1.1410 - val_acc: 0.5318\n",
      "Epoch 5/20\n",
      "14207/14207 [==============================] - 15s 1ms/sample - loss: 1.0645 - acc: 0.5664 - val_loss: 1.1517 - val_acc: 0.5189\n",
      "Epoch 6/20\n",
      "14207/14207 [==============================] - 14s 981us/sample - loss: 1.0361 - acc: 0.5773 - val_loss: 1.1495 - val_acc: 0.5251\n",
      "Epoch 7/20\n",
      "14207/14207 [==============================] - 14s 968us/sample - loss: 1.0086 - acc: 0.5867 - val_loss: 1.1580 - val_acc: 0.5369\n",
      "Epoch 8/20\n",
      "14207/14207 [==============================] - 14s 975us/sample - loss: 0.9864 - acc: 0.6001 - val_loss: 1.1402 - val_acc: 0.5239\n",
      "Epoch 9/20\n",
      "14207/14207 [==============================] - 15s 1ms/sample - loss: 0.9619 - acc: 0.6093 - val_loss: 1.1589 - val_acc: 0.5290\n",
      "Epoch 10/20\n",
      "14207/14207 [==============================] - 15s 1ms/sample - loss: 0.9403 - acc: 0.6178 - val_loss: 1.1817 - val_acc: 0.5377\n",
      "Epoch 11/20\n",
      "14207/14207 [==============================] - 15s 1ms/sample - loss: 0.9158 - acc: 0.6332 - val_loss: 1.2110 - val_acc: 0.5076\n",
      "Epoch 12/20\n",
      "14207/14207 [==============================] - 14s 1ms/sample - loss: 0.8924 - acc: 0.6433 - val_loss: 1.2079 - val_acc: 0.5200\n",
      "Epoch 13/20\n",
      "14207/14207 [==============================] - 14s 954us/sample - loss: 0.8707 - acc: 0.6552 - val_loss: 1.2178 - val_acc: 0.5191\n",
      "Epoch 14/20\n",
      "14207/14207 [==============================] - 13s 903us/sample - loss: 0.8456 - acc: 0.6666 - val_loss: 1.2318 - val_acc: 0.5284\n",
      "Epoch 15/20\n",
      "14207/14207 [==============================] - 13s 941us/sample - loss: 0.8174 - acc: 0.6847 - val_loss: 1.2506 - val_acc: 0.4921\n",
      "Epoch 16/20\n",
      "14207/14207 [==============================] - 14s 959us/sample - loss: 0.7949 - acc: 0.6961 - val_loss: 1.3230 - val_acc: 0.4907\n",
      "Epoch 17/20\n",
      "14207/14207 [==============================] - 14s 987us/sample - loss: 0.7703 - acc: 0.7067 - val_loss: 1.3429 - val_acc: 0.5031\n",
      "Epoch 18/20\n",
      "14207/14207 [==============================] - 14s 995us/sample - loss: 0.7428 - acc: 0.7225 - val_loss: 1.3293 - val_acc: 0.4735\n",
      "Epoch 19/20\n",
      "14207/14207 [==============================] - 14s 1ms/sample - loss: 0.7170 - acc: 0.7356 - val_loss: 1.3745 - val_acc: 0.4932\n",
      "Epoch 20/20\n",
      "14207/14207 [==============================] - 15s 1ms/sample - loss: 0.6941 - acc: 0.7402 - val_loss: 1.4413 - val_acc: 0.5042\n"
     ]
    }
   ],
   "source": [
    "# Train the Model\n",
    "history = model.fit(X_train, y_train,\n",
    "                    epochs=20,\n",
    "                    batch_size=32,\n",
    "                    validation_split=0.2)"
   ]
  },
  {
   "cell_type": "code",
   "execution_count": 25,
   "metadata": {},
   "outputs": [
    {
     "data": {
      "image/png": "[encoded data removed]",
      "text/plain": [
       "<Figure size 432x288 with 1 Axes>"
      ]
     },
     "metadata": {
      "needs_background": "light"
     },
     "output_type": "display_data"
    },
    {
     "data": {
      "image/png": "[encoded data removed]",
      "text/plain": [
       "<Figure size 432x288 with 1 Axes>"
      ]
     },
     "metadata": {
      "needs_background": "light"
     },
     "output_type": "display_data"
    }
   ],
   "source": [
    "# Plot the Training and Validation Accuracy & Loss Scores\n",
    "%matplotlib inline\n",
    "\n",
    "acc = history.history['acc']\n",
    "val_acc = history.history['val_acc']\n",
    "loss = history.history['loss']\n",
    "val_loss = history.history['val_loss']\n",
    "\n",
    "epochs = range(len(acc))\n",
    "\n",
    "plt.plot(epochs, acc, 'bo', label='Training acc')\n",
    "plt.plot(epochs, val_acc, 'b', label='Validation acc')\n",
    "plt.title('Training and validation accuracy')\n",
    "plt.legend()\n",
    "\n",
    "plt.figure()\n",
    "\n",
    "plt.plot(epochs, loss, 'bo', label='Training loss')\n",
    "plt.plot(epochs, val_loss, 'b', label='Validation loss')\n",
    "plt.title('Training and validation loss')\n",
    "plt.legend()\n",
    "\n",
    "plt.show()"
   ]
  },
  {
   "cell_type": "markdown",
   "metadata": {},
   "source": [
    "### Fine-Tuning Model "
   ]
  },
  {
   "cell_type": "code",
   "execution_count": 216,
   "metadata": {},
   "outputs": [
    {
     "name": "stdout",
     "output_type": "stream",
     "text": [
      "Model: \"sequential_36\"\n",
      "_________________________________________________________________\n",
      "Layer (type)                 Output Shape              Param #   \n",
      "=================================================================\n",
      "embedding_36 (Embedding)     (None, 30, 50)            758750    \n",
      "_________________________________________________________________\n",
      "lstm_70 (LSTM)               (None, 30, 16)            4288      \n",
      "_________________________________________________________________\n",
      "dropout_94 (Dropout)         (None, 30, 16)            0         \n",
      "_________________________________________________________________\n",
      "lstm_71 (LSTM)               (None, 30, 16)            2112      \n",
      "_________________________________________________________________\n",
      "dropout_95 (Dropout)         (None, 30, 16)            0         \n",
      "_________________________________________________________________\n",
      "gru_36 (GRU)                 (None, 16)                1632      \n",
      "_________________________________________________________________\n",
      "dropout_96 (Dropout)         (None, 16)                0         \n",
      "_________________________________________________________________\n",
      "dense_36 (Dense)             (None, 5)                 85        \n",
      "=================================================================\n",
      "Total params: 766,867\n",
      "Trainable params: 766,867\n",
      "Non-trainable params: 0\n",
      "_________________________________________________________________\n"
     ]
    }
   ],
   "source": [
    "# Build the Model\n",
    "tmodel = Sequential()\n",
    "tmodel.add(Embedding(max_features, embedding_dim, input_length=maxlen))\n",
    "tmodel.add(LSTM(16, kernel_regularizer=regularizers.l2(0.1), return_sequences=True))\n",
    "tmodel.add(layers.Dropout(0.5))\n",
    "tmodel.add(LSTM(16, kernel_regularizer=regularizers.l2(0.1), return_sequences=True))\n",
    "tmodel.add(layers.Dropout(0.5))\n",
    "tmodel.add(GRU(16, kernel_regularizer=regularizers.l2(0.1)))\n",
    "tmodel.add(layers.Dropout(0.5))\n",
    "tmodel.add(Dense(5, activation='softmax'))\n",
    "\n",
    "tmodel.layers[0].set_weights([embedding_matrix])\n",
    "#tmodel.layers[0].trainable = False\n",
    "\n",
    "tmodel.compile(optimizer='rmsprop', loss='sparse_categorical_crossentropy', metrics=['acc'])\n",
    "tmodel.summary()"
   ]
  },
  {
   "cell_type": "code",
   "execution_count": 217,
   "metadata": {},
   "outputs": [
    {
     "name": "stdout",
     "output_type": "stream",
     "text": [
      "Train on 14207 samples, validate on 3552 samples\n",
      "Epoch 1/20\n",
      "WARNING:tensorflow:Entity <function Function._initialize_uninitialized_variables.<locals>.initialize_variables at 0x000001D19A0A7168> could not be transformed and will be executed as-is. Please report this to the AutoGraph team. When filing the bug, set the verbosity to 10 (on Linux, `export AUTOGRAPH_VERBOSITY=10`) and attach the full output. Cause: No module named 'tensorflow_core.estimator'\n"
     ]
    },
    {
     "name": "stderr",
     "output_type": "stream",
     "text": [
      "WARNING:tensorflow:Entity <function Function._initialize_uninitialized_variables.<locals>.initialize_variables at 0x000001D19A0A7168> could not be transformed and will be executed as-is. Please report this to the AutoGraph team. When filing the bug, set the verbosity to 10 (on Linux, `export AUTOGRAPH_VERBOSITY=10`) and attach the full output. Cause: No module named 'tensorflow_core.estimator'\n"
     ]
    },
    {
     "name": "stdout",
     "output_type": "stream",
     "text": [
      "WARNING: Entity <function Function._initialize_uninitialized_variables.<locals>.initialize_variables at 0x000001D19A0A7168> could not be transformed and will be executed as-is. Please report this to the AutoGraph team. When filing the bug, set the verbosity to 10 (on Linux, `export AUTOGRAPH_VERBOSITY=10`) and attach the full output. Cause: No module named 'tensorflow_core.estimator'\n",
      "14207/14207 [==============================] - 19s 1ms/sample - loss: 2.9692 - acc: 0.4295 - val_loss: 1.3376 - val_acc: 0.5039\n",
      "Epoch 2/20\n",
      "14207/14207 [==============================] - 10s 694us/sample - loss: 1.3207 - acc: 0.5180 - val_loss: 1.2845 - val_acc: 0.5166\n",
      "Epoch 3/20\n",
      "14207/14207 [==============================] - 10s 733us/sample - loss: 1.2608 - acc: 0.5294 - val_loss: 1.2750 - val_acc: 0.5220\n",
      "Epoch 4/20\n",
      "14207/14207 [==============================] - 11s 771us/sample - loss: 1.2344 - acc: 0.5323 - val_loss: 1.2344 - val_acc: 0.5225\n",
      "Epoch 5/20\n",
      "14207/14207 [==============================] - 11s 788us/sample - loss: 1.2150 - acc: 0.5364 - val_loss: 1.2370 - val_acc: 0.5253\n",
      "Epoch 6/20\n",
      "14207/14207 [==============================] - 11s 766us/sample - loss: 1.1960 - acc: 0.5414 - val_loss: 1.2263 - val_acc: 0.5245\n",
      "Epoch 7/20\n",
      "14207/14207 [==============================] - 11s 786us/sample - loss: 1.1873 - acc: 0.5443 - val_loss: 1.2227 - val_acc: 0.5265\n",
      "Epoch 8/20\n",
      "14207/14207 [==============================] - 11s 765us/sample - loss: 1.1747 - acc: 0.5419 - val_loss: 1.2361 - val_acc: 0.5231\n",
      "Epoch 9/20\n",
      "14207/14207 [==============================] - 12s 812us/sample - loss: 1.1677 - acc: 0.5435 - val_loss: 1.3026 - val_acc: 0.5267\n",
      "Epoch 10/20\n",
      "14207/14207 [==============================] - 11s 772us/sample - loss: 1.1602 - acc: 0.5477 - val_loss: 1.2413 - val_acc: 0.5183\n",
      "Epoch 11/20\n",
      "14207/14207 [==============================] - 12s 810us/sample - loss: 1.1558 - acc: 0.5480 - val_loss: 1.2331 - val_acc: 0.5273\n",
      "Epoch 12/20\n",
      "14207/14207 [==============================] - 11s 776us/sample - loss: 1.1481 - acc: 0.5490 - val_loss: 1.2184 - val_acc: 0.5298\n",
      "Epoch 13/20\n",
      "14207/14207 [==============================] - 11s 767us/sample - loss: 1.1451 - acc: 0.5499 - val_loss: 1.2292 - val_acc: 0.5259\n",
      "Epoch 14/20\n",
      "14207/14207 [==============================] - 11s 801us/sample - loss: 1.1373 - acc: 0.5563 - val_loss: 1.2344 - val_acc: 0.5259\n",
      "Epoch 15/20\n",
      "14207/14207 [==============================] - 11s 749us/sample - loss: 1.1331 - acc: 0.5554 - val_loss: 1.2861 - val_acc: 0.5251\n",
      "Epoch 16/20\n",
      "14207/14207 [==============================] - 11s 741us/sample - loss: 1.1297 - acc: 0.5555 - val_loss: 1.2260 - val_acc: 0.5287\n",
      "Epoch 17/20\n",
      "14207/14207 [==============================] - 11s 797us/sample - loss: 1.1253 - acc: 0.5587 - val_loss: 1.2126 - val_acc: 0.5267\n",
      "Epoch 18/20\n",
      "14207/14207 [==============================] - 12s 811us/sample - loss: 1.1242 - acc: 0.5573 - val_loss: 1.2762 - val_acc: 0.5301\n",
      "Epoch 19/20\n",
      "14207/14207 [==============================] - 13s 883us/sample - loss: 1.1109 - acc: 0.5592 - val_loss: 1.2313 - val_acc: 0.5273\n",
      "Epoch 20/20\n",
      "14207/14207 [==============================] - 11s 797us/sample - loss: 1.1116 - acc: 0.5619 - val_loss: 1.2844 - val_acc: 0.4972\n"
     ]
    }
   ],
   "source": [
    "# Train the Model\n",
    "thistory = tmodel.fit(X_train, y_train,\n",
    "                    epochs=20,\n",
    "                    batch_size=32,\n",
    "                    validation_split=0.2)"
   ]
  },
  {
   "cell_type": "code",
   "execution_count": 218,
   "metadata": {},
   "outputs": [
    {
     "data": {
      "image/png": "[encoded data removed]",
      "text/plain": [
       "<Figure size 432x288 with 1 Axes>"
      ]
     },
     "metadata": {
      "needs_background": "light"
     },
     "output_type": "display_data"
    },
    {
     "data": {
      "image/png": "[encoded data removed]",
      "text/plain": [
       "<Figure size 432x288 with 1 Axes>"
      ]
     },
     "metadata": {
      "needs_background": "light"
     },
     "output_type": "display_data"
    }
   ],
   "source": [
    "# Plot the Training and Validation Accuracy & Loss Scores\n",
    "%matplotlib inline\n",
    "\n",
    "acc = thistory.history['acc']\n",
    "val_acc = thistory.history['val_acc']\n",
    "loss = thistory.history['loss']\n",
    "val_loss = thistory.history['val_loss']\n",
    "\n",
    "epochs = range(len(acc))\n",
    "\n",
    "plt.plot(epochs, acc, 'bo', label='Training acc')\n",
    "plt.plot(epochs, val_acc, 'b', label='Validation acc')\n",
    "plt.title('Training and validation accuracy')\n",
    "plt.legend()\n",
    "\n",
    "plt.figure()\n",
    "\n",
    "plt.plot(epochs, loss, 'bo', label='Training loss')\n",
    "plt.plot(epochs, val_loss, 'b', label='Validation loss')\n",
    "plt.title('Training and validation loss')\n",
    "plt.legend()\n",
    "\n",
    "plt.show()"
   ]
  },
  {
   "cell_type": "code",
   "execution_count": 219,
   "metadata": {},
   "outputs": [],
   "source": [
    "tmodel.save('text_testmodel_4.h5')"
   ]
  },
  {
   "cell_type": "code",
   "execution_count": 220,
   "metadata": {},
   "outputs": [
    {
     "name": "stdout",
     "output_type": "stream",
     "text": [
      "test acc: 0.50405407\n"
     ]
    }
   ],
   "source": [
    "tmodel.load_weights('text_testmodel_4.h5')\n",
    "tmodel.compile(optimizer='rmsprop', loss='sparse_categorical_crossentropy', metrics=['acc'])\n",
    "\n",
    "test_loss, test_acc = tmodel.evaluate(X_test, y_test, batch_size=32, verbose=0)\n",
    "print('test acc:', test_acc)"
   ]
  },
  {
   "cell_type": "markdown",
   "metadata": {},
   "source": [
    "### Model # 4.1  (Student Name: Brayden)(Final Model)"
   ]
  },
  {
   "cell_type": "code",
   "execution_count": 81,
   "metadata": {},
   "outputs": [
    {
     "name": "stdout",
     "output_type": "stream",
     "text": [
      "Model: \"sequential_9\"\n",
      "_________________________________________________________________\n",
      "Layer (type)                 Output Shape              Param #   \n",
      "=================================================================\n",
      "embedding_9 (Embedding)      (None, 30, 50)            758750    \n",
      "_________________________________________________________________\n",
      "lstm_18 (LSTM)               (None, 30, 8)             1888      \n",
      "_________________________________________________________________\n",
      "dropout_18 (Dropout)         (None, 30, 8)             0         \n",
      "_________________________________________________________________\n",
      "lstm_19 (LSTM)               (None, 30, 8)             544       \n",
      "_________________________________________________________________\n",
      "dropout_19 (Dropout)         (None, 30, 8)             0         \n",
      "_________________________________________________________________\n",
      "gru_9 (GRU)                  (None, 8)                 432       \n",
      "_________________________________________________________________\n",
      "dropout_20 (Dropout)         (None, 8)                 0         \n",
      "_________________________________________________________________\n",
      "dense_9 (Dense)              (None, 5)                 45        \n",
      "=================================================================\n",
      "Total params: 761,659\n",
      "Trainable params: 2,909\n",
      "Non-trainable params: 758,750\n",
      "_________________________________________________________________\n"
     ]
    }
   ],
   "source": [
    "# Build the Model\n",
    "model = Sequential()\n",
    "model.add(Embedding(max_features, embedding_dim, input_length=maxlen))\n",
    "model.add(LSTM(8, kernel_regularizer=regularizers.l1(0.0001), return_sequences=True))\n",
    "model.add(layers.Dropout(0.5))\n",
    "model.add(LSTM(8, kernel_regularizer=regularizers.l1(0.0001), return_sequences=True))\n",
    "model.add(layers.Dropout(0.5))\n",
    "model.add(GRU(8, kernel_regularizer=regularizers.l1(0.0001)))\n",
    "model.add(layers.Dropout(0.5))\n",
    "model.add(Dense(5, activation='softmax'))\n",
    "\n",
    "model.layers[0].set_weights([embedding_matrix])\n",
    "model.layers[0].trainable = False\n",
    "\n",
    "model.compile(optimizer='rmsprop', loss='sparse_categorical_crossentropy', metrics=['acc'])\n",
    "model.summary()"
   ]
  },
  {
   "cell_type": "code",
   "execution_count": 82,
   "metadata": {
    "scrolled": false
   },
   "outputs": [
    {
     "name": "stdout",
     "output_type": "stream",
     "text": [
      "Train on 14207 samples, validate on 3552 samples\n",
      "Epoch 1/20\n",
      "WARNING:tensorflow:Entity <function Function._initialize_uninitialized_variables.<locals>.initialize_variables at 0x000001D0A8A99EE8> could not be transformed and will be executed as-is. Please report this to the AutoGraph team. When filing the bug, set the verbosity to 10 (on Linux, `export AUTOGRAPH_VERBOSITY=10`) and attach the full output. Cause: No module named 'tensorflow_core.estimator'\n"
     ]
    },
    {
     "name": "stderr",
     "output_type": "stream",
     "text": [
      "WARNING:tensorflow:Entity <function Function._initialize_uninitialized_variables.<locals>.initialize_variables at 0x000001D0A8A99EE8> could not be transformed and will be executed as-is. Please report this to the AutoGraph team. When filing the bug, set the verbosity to 10 (on Linux, `export AUTOGRAPH_VERBOSITY=10`) and attach the full output. Cause: No module named 'tensorflow_core.estimator'\n"
     ]
    },
    {
     "name": "stdout",
     "output_type": "stream",
     "text": [
      "WARNING: Entity <function Function._initialize_uninitialized_variables.<locals>.initialize_variables at 0x000001D0A8A99EE8> could not be transformed and will be executed as-is. Please report this to the AutoGraph team. When filing the bug, set the verbosity to 10 (on Linux, `export AUTOGRAPH_VERBOSITY=10`) and attach the full output. Cause: No module named 'tensorflow_core.estimator'\n",
      "14207/14207 [==============================] - 22s 2ms/sample - loss: 1.5233 - acc: 0.3866 - val_loss: 1.3830 - val_acc: 0.4778\n",
      "Epoch 2/20\n",
      "14207/14207 [==============================] - 9s 634us/sample - loss: 1.3667 - acc: 0.4954 - val_loss: 1.3051 - val_acc: 0.5011\n",
      "Epoch 3/20\n",
      "14207/14207 [==============================] - 9s 645us/sample - loss: 1.3109 - acc: 0.5107 - val_loss: 1.2811 - val_acc: 0.5065\n",
      "Epoch 4/20\n",
      "14207/14207 [==============================] - 10s 697us/sample - loss: 1.2888 - acc: 0.5138 - val_loss: 1.2689 - val_acc: 0.5065\n",
      "Epoch 5/20\n",
      "14207/14207 [==============================] - 10s 672us/sample - loss: 1.2699 - acc: 0.5174 - val_loss: 1.2714 - val_acc: 0.5090\n",
      "Epoch 6/20\n",
      "14207/14207 [==============================] - 9s 627us/sample - loss: 1.2639 - acc: 0.5175 - val_loss: 1.2538 - val_acc: 0.5113\n",
      "Epoch 7/20\n",
      "14207/14207 [==============================] - 11s 746us/sample - loss: 1.2549 - acc: 0.5247 - val_loss: 1.2589 - val_acc: 0.5099\n",
      "Epoch 8/20\n",
      "14207/14207 [==============================] - 11s 767us/sample - loss: 1.2452 - acc: 0.5248 - val_loss: 1.2486 - val_acc: 0.5115\n",
      "Epoch 9/20\n",
      "14207/14207 [==============================] - 11s 774us/sample - loss: 1.2425 - acc: 0.5235 - val_loss: 1.2480 - val_acc: 0.5130\n",
      "Epoch 10/20\n",
      "14207/14207 [==============================] - 13s 896us/sample - loss: 1.2374 - acc: 0.5263 - val_loss: 1.2373 - val_acc: 0.5144\n",
      "Epoch 11/20\n",
      "14207/14207 [==============================] - 12s 846us/sample - loss: 1.2322 - acc: 0.5290 - val_loss: 1.2424 - val_acc: 0.5101\n",
      "Epoch 12/20\n",
      "14207/14207 [==============================] - 10s 724us/sample - loss: 1.2300 - acc: 0.5274 - val_loss: 1.2346 - val_acc: 0.5180\n",
      "Epoch 13/20\n",
      "14207/14207 [==============================] - 10s 736us/sample - loss: 1.2224 - acc: 0.5279 - val_loss: 1.2478 - val_acc: 0.5163\n",
      "Epoch 14/20\n",
      "14207/14207 [==============================] - 9s 646us/sample - loss: 1.2236 - acc: 0.5309 - val_loss: 1.2638 - val_acc: 0.5132\n",
      "Epoch 15/20\n",
      "14207/14207 [==============================] - 10s 688us/sample - loss: 1.2163 - acc: 0.5321 - val_loss: 1.2443 - val_acc: 0.5113\n",
      "Epoch 16/20\n",
      "14207/14207 [==============================] - 9s 619us/sample - loss: 1.2127 - acc: 0.5313 - val_loss: 1.2526 - val_acc: 0.5110\n",
      "Epoch 17/20\n",
      "14207/14207 [==============================] - 10s 672us/sample - loss: 1.2119 - acc: 0.5337 - val_loss: 1.2318 - val_acc: 0.5149\n",
      "Epoch 18/20\n",
      "14207/14207 [==============================] - 10s 734us/sample - loss: 1.2107 - acc: 0.5326 - val_loss: 1.2353 - val_acc: 0.5144\n",
      "Epoch 19/20\n",
      "14207/14207 [==============================] - 9s 636us/sample - loss: 1.2100 - acc: 0.5291 - val_loss: 1.2530 - val_acc: 0.5124\n",
      "Epoch 20/20\n",
      "14207/14207 [==============================] - 9s 657us/sample - loss: 1.2047 - acc: 0.5342 - val_loss: 1.2414 - val_acc: 0.5175\n"
     ]
    }
   ],
   "source": [
    "# Train the Model\n",
    "history = model.fit(X_train, y_train,\n",
    "                    epochs=20,\n",
    "                    batch_size=32,\n",
    "                    validation_split=0.2)"
   ]
  },
  {
   "cell_type": "code",
   "execution_count": 83,
   "metadata": {},
   "outputs": [
    {
     "data": {
      "image/png": "[encoded data removed]",
      "text/plain": [
       "<Figure size 432x288 with 1 Axes>"
      ]
     },
     "metadata": {
      "needs_background": "light"
     },
     "output_type": "display_data"
    },
    {
     "data": {
      "image/png": "[encoded data removed]",
      "text/plain": [
       "<Figure size 432x288 with 1 Axes>"
      ]
     },
     "metadata": {
      "needs_background": "light"
     },
     "output_type": "display_data"
    }
   ],
   "source": [
    "# Plot the Training and Validation Accuracy & Loss Scores\n",
    "%matplotlib inline\n",
    "\n",
    "acc = history.history['acc']\n",
    "val_acc = history.history['val_acc']\n",
    "loss = history.history['loss']\n",
    "val_loss = history.history['val_loss']\n",
    "\n",
    "epochs = range(len(acc))\n",
    "\n",
    "plt.plot(epochs, acc, 'bo', label='Training acc')\n",
    "plt.plot(epochs, val_acc, 'b', label='Validation acc')\n",
    "plt.title('Training and validation accuracy')\n",
    "plt.legend()\n",
    "\n",
    "plt.figure()\n",
    "\n",
    "plt.plot(epochs, loss, 'bo', label='Training loss')\n",
    "plt.plot(epochs, val_loss, 'b', label='Validation loss')\n",
    "plt.title('Training and validation loss')\n",
    "plt.legend()\n",
    "\n",
    "plt.show()"
   ]
  },
  {
   "cell_type": "code",
   "execution_count": 84,
   "metadata": {},
   "outputs": [],
   "source": [
    "# Save the Model [change the file model number]\n",
    "model.save('text_model_4.h5')"
   ]
  },
  {
   "cell_type": "code",
   "execution_count": 187,
   "metadata": {},
   "outputs": [],
   "source": [
    "model.save('text_model_4_Brayden.h5')"
   ]
  },
  {
   "cell_type": "markdown",
   "metadata": {},
   "source": [
    "## Step 3 – Evaluate the Model using Testing Data (Individual & Group)"
   ]
  },
  {
   "cell_type": "code",
   "execution_count": null,
   "metadata": {},
   "outputs": [],
   "source": [
    "# Model #1 (replicate where necessary for other models)\n",
    "model.load_weights('text_model_1.h5')\n"
   ]
  },
  {
   "cell_type": "code",
   "execution_count": null,
   "metadata": {},
   "outputs": [],
   "source": [
    "# Model #2 (replicate where necessary for other models)\n",
    "model.load_weights('text_model_2.h5')\n"
   ]
  },
  {
   "cell_type": "code",
   "execution_count": null,
   "metadata": {},
   "outputs": [],
   "source": [
    "# Model #3 (replicate where necessary for other models)\n",
    "model.load_weights('text_model_3.h5')\n"
   ]
  },
  {
   "cell_type": "code",
   "execution_count": 188,
   "metadata": {},
   "outputs": [
    {
     "name": "stdout",
     "output_type": "stream",
     "text": [
      "test acc: 0.5315315\n"
     ]
    }
   ],
   "source": [
    "# Model #4 (replicate where necessary for other models)\n",
    "model.load_weights('text_model_4_Brayden.h5')\n",
    "model.compile(optimizer='rmsprop', loss='sparse_categorical_crossentropy', metrics=['acc'])\n",
    "\n",
    "test_loss, test_acc = model.evaluate(X_test, y_test, batch_size=32, verbose=0)\n",
    "print('test acc:', test_acc)"
   ]
  },
  {
   "cell_type": "code",
   "execution_count": null,
   "metadata": {},
   "outputs": [],
   "source": [
    "# Model #5 (replicate where necessary for other models)\n",
    "model.load_weights('text_model_5.h5')\n"
   ]
  },
  {
   "cell_type": "markdown",
   "metadata": {},
   "source": [
    "## Step 4 – Use the Best Model to make prediction (Group)"
   ]
  },
  {
   "cell_type": "code",
   "execution_count": null,
   "metadata": {},
   "outputs": [],
   "source": [
    "# Model #2 (replicate where necessary for other models)\n",
    "model.load_weights('text_model_2.h5')\n"
   ]
  },
  {
   "cell_type": "code",
   "execution_count": 180,
   "metadata": {},
   "outputs": [],
   "source": [
    "model.load_weights('text_model_4.h5')"
   ]
  },
  {
   "cell_type": "code",
   "execution_count": 186,
   "metadata": {},
   "outputs": [],
   "source": [
    "# takes the user input"
   ]
  },
  {
   "cell_type": "code",
   "execution_count": 185,
   "metadata": {},
   "outputs": [],
   "source": [
    "# convert the user input into numeric tensor\n"
   ]
  },
  {
   "cell_type": "code",
   "execution_count": 184,
   "metadata": {},
   "outputs": [],
   "source": [
    "# show the model output using predict function\n"
   ]
  },
  {
   "cell_type": "code",
   "execution_count": null,
   "metadata": {},
   "outputs": [],
   "source": []
  }
 ],
 "metadata": {
  "kernelspec": {
   "display_name": "Python 3",
   "language": "python",
   "name": "python3"
  },
  "language_info": {
   "codemirror_mode": {
    "name": "ipython",
    "version": 3
   },
   "file_extension": ".py",
   "mimetype": "text/x-python",
   "name": "python",
   "nbconvert_exporter": "python",
   "pygments_lexer": "ipython3",
   "version": "3.7.10"
  }
 },
 "nbformat": 4,
 "nbformat_minor": 2
}
