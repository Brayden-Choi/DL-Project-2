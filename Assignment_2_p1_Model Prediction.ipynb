{
 "cells": [
  {
   "cell_type": "markdown",
   "metadata": {},
   "source": [
    "<table class=\"table table-bordered\">\n",
    "    <tr>\n",
    "        <th style=\"text-align:center; width:25%\"><img src='https://www.np.edu.sg/PublishingImages/Pages/default/odp/ICT.jpg' style=\"width: 250px; height: 125px; \"></th>\n",
    "        <th style=\"text-align:center;\"><h1>Deep Learning</h1><h2>Assignment 2 (Problem 1) - Sentiment Analysis Model  (Group)</h2><h3>AY2021/22 Semester</h3></th>\n",
    "    </tr>\n",
    "</table>"
   ]
  },
  {
   "cell_type": "code",
   "execution_count": 482,
   "metadata": {},
   "outputs": [
    {
     "name": "stdout",
     "output_type": "stream",
     "text": [
      "keras:  2.2.4-tf\n"
     ]
    },
    {
     "data": {
      "text/html": [
       "<style>.container { width:95% !important; }</style>"
      ],
      "text/plain": [
       "<IPython.core.display.HTML object>"
      ]
     },
     "metadata": {},
     "output_type": "display_data"
    }
   ],
   "source": [
    "# Import the Required Packages\n",
    "from tensorflow import keras\n",
    "print('keras: ', keras.__version__)\n",
    "from IPython.core.display import display, HTML\n",
    "display(HTML(\"<style>.container { width:95% !important; }</style>\"))\n",
    "\n",
    "import numpy as np\n",
    "import pandas as pd\n",
    "import re\n",
    "import nltk\n",
    "import string\n",
    "from tensorflow.keras.preprocessing.text import Tokenizer\n",
    "from tensorflow.keras.preprocessing.sequence import pad_sequences\n",
    "from tensorflow.keras import models"
   ]
  },
  {
   "cell_type": "markdown",
   "metadata": {},
   "source": [
    "## Step 4 – Use the Best Model to make prediction (Group)"
   ]
  },
  {
   "cell_type": "markdown",
   "metadata": {},
   "source": [
    "### Preprocessing Function"
   ]
  },
  {
   "cell_type": "code",
   "execution_count": 483,
   "metadata": {},
   "outputs": [],
   "source": [
    "# Retrieving stopwords\n",
    "stopwords = nltk.corpus.stopwords.words('english')\n",
    "\n",
    "# Function for cleansing data\n",
    "def pre_process(text):\n",
    "    \n",
    "    # remove stopwords\n",
    "    tokens = re.split('\\W+', text)\n",
    "    text = [word for word in tokens if word not in stopwords]\n",
    "    \n",
    "    # remove punctuation\n",
    "    text = \" \".join([word for word in text if word not in string.punctuation])\n",
    "    \n",
    "    # lower text\n",
    "    text=text.lower()\n",
    "    \n",
    "    return text"
   ]
  },
  {
   "cell_type": "code",
   "execution_count": 485,
   "metadata": {},
   "outputs": [],
   "source": [
    "final_model = models.load_model('DL_ASG2_P1_BEST.h5')\n",
    "final_model.load_weights('DL_ASG2_P1_BEST.h5')"
   ]
  },
  {
   "cell_type": "markdown",
   "metadata": {},
   "source": [
    "### 1 Star Rating"
   ]
  },
  {
   "cell_type": "code",
   "execution_count": 469,
   "metadata": {},
   "outputs": [
    {
     "name": "stdout",
     "output_type": "stream",
     "text": [
      "Never used an app this bad before. Doesnt treat its user well. Uninstall and unrecommend\n"
     ]
    },
    {
     "data": {
      "text/plain": [
       "'never used app bad doesnt treat user well uninstall unrecommend'"
      ]
     },
     "execution_count": 469,
     "metadata": {},
     "output_type": "execute_result"
    }
   ],
   "source": [
    "# takes the user input\n",
    "text_input = pre_process(input().lower())\n",
    "text_input"
   ]
  },
  {
   "cell_type": "code",
   "execution_count": 470,
   "metadata": {},
   "outputs": [],
   "source": [
    "# convert the user input into numeric tensor\n",
    "scores =[1, 2, 3, 4, 5]\n",
    "\n",
    "tk=Tokenizer()\n",
    "\n",
    "tk.fit_on_texts([text_input])\n",
    "\n",
    "text_input_seq = tk.texts_to_sequences([text_input])\n",
    "text_input_pad = pad_sequences(text_input_seq, maxlen=30, padding='post')"
   ]
  },
  {
   "cell_type": "code",
   "execution_count": 471,
   "metadata": {},
   "outputs": [],
   "source": [
    "# show the model output using predict function\n",
    "prediction = final_model.predict(text_input_pad)\n",
    "\n",
    "probability = pd.DataFrame(prediction, columns = scores)\n",
    "result = scores[np.argmax(prediction)]"
   ]
  },
  {
   "cell_type": "code",
   "execution_count": 472,
   "metadata": {
    "scrolled": true
   },
   "outputs": [
    {
     "name": "stdout",
     "output_type": "stream",
     "text": [
      "The probability of each rating is: \n",
      "           1         2         3         4         5\n",
      "0  0.318356  0.141986  0.117347  0.129527  0.292784\n",
      "\n",
      "The predicted rating is: 1\n"
     ]
    }
   ],
   "source": [
    "print(\"The probability of each rating is: \\n\", probability)\n",
    "print(\"\\nThe predicted rating is:\", result)"
   ]
  },
  {
   "cell_type": "markdown",
   "metadata": {},
   "source": [
    "### 2 Star Rating"
   ]
  },
  {
   "cell_type": "code",
   "execution_count": 473,
   "metadata": {},
   "outputs": [
    {
     "name": "stdout",
     "output_type": "stream",
     "text": [
      "Horrible app! Can't choose songs i want to play, can't repeat playlists and it has annoying ads. I also can't skip songs because there are ads. Only good thing is that it looks cool.\n"
     ]
    },
    {
     "data": {
      "text/plain": [
       "'horrible app choose songs want play repeat playlists annoying ads also skip songs ads good thing looks cool'"
      ]
     },
     "execution_count": 473,
     "metadata": {},
     "output_type": "execute_result"
    }
   ],
   "source": [
    "# takes the user input\n",
    "text_input = pre_process(input().lower())\n",
    "text_input"
   ]
  },
  {
   "cell_type": "code",
   "execution_count": 474,
   "metadata": {},
   "outputs": [],
   "source": [
    "# convert the user input into numeric tensor\n",
    "scores =[1, 2, 3, 4, 5]\n",
    "\n",
    "tk=Tokenizer()\n",
    "\n",
    "tk.fit_on_texts([text_input])\n",
    "\n",
    "text_input_seq = tk.texts_to_sequences([text_input])\n",
    "text_input_pad = pad_sequences(text_input_seq, maxlen=30, padding='post')"
   ]
  },
  {
   "cell_type": "code",
   "execution_count": 475,
   "metadata": {},
   "outputs": [],
   "source": [
    "# show the model output using predict function\n",
    "prediction = final_model.predict(text_input_pad)\n",
    "\n",
    "probability = pd.DataFrame(prediction, columns = scores)\n",
    "result = scores[np.argmax(prediction)]"
   ]
  },
  {
   "cell_type": "code",
   "execution_count": 476,
   "metadata": {},
   "outputs": [
    {
     "name": "stdout",
     "output_type": "stream",
     "text": [
      "The probability of each rating is: \n",
      "           1         2         3         4         5\n",
      "0  0.370167  0.194805  0.159877  0.123627  0.151523\n",
      "\n",
      "The predicted rating is: 1\n"
     ]
    }
   ],
   "source": [
    "print(\"The probability of each rating is: \\n\", probability)\n",
    "print(\"\\nThe predicted rating is:\", result)"
   ]
  },
  {
   "cell_type": "markdown",
   "metadata": {},
   "source": [
    "### 3 Star Rating"
   ]
  },
  {
   "cell_type": "code",
   "execution_count": 434,
   "metadata": {},
   "outputs": [
    {
     "name": "stdout",
     "output_type": "stream",
     "text": [
      "I love this app generally except it often does this thing where it renders your downloaded songs unplayable. It's like it \"refreshes\" a few times and then your songs are \"unplayable\". Except when you go to download them again and find the exact version of the song there again.\n"
     ]
    },
    {
     "data": {
      "text/plain": [
       "'love app generally except often thing renders downloaded songs unplayable like refreshes times songs unplayable except go download find exact version song'"
      ]
     },
     "execution_count": 434,
     "metadata": {},
     "output_type": "execute_result"
    }
   ],
   "source": [
    "# takes the user input\n",
    "text_input = pre_process(input().lower())\n",
    "text_input"
   ]
  },
  {
   "cell_type": "code",
   "execution_count": 435,
   "metadata": {},
   "outputs": [],
   "source": [
    "# convert the user input into numeric tensor\n",
    "scores =[1, 2, 3, 4, 5]\n",
    "\n",
    "tk=Tokenizer()\n",
    "\n",
    "tk.fit_on_texts([text_input])\n",
    "\n",
    "text_input_seq = tk.texts_to_sequences([text_input])\n",
    "text_input_pad = pad_sequences(text_input_seq, maxlen=30, padding='post')"
   ]
  },
  {
   "cell_type": "code",
   "execution_count": 436,
   "metadata": {},
   "outputs": [],
   "source": [
    "# show the model output using predict function\n",
    "prediction = final_model.predict(text_input_pad)\n",
    "\n",
    "probability = pd.DataFrame(prediction, columns = scores)\n",
    "result = scores[np.argmax(prediction)]"
   ]
  },
  {
   "cell_type": "code",
   "execution_count": 437,
   "metadata": {},
   "outputs": [
    {
     "name": "stdout",
     "output_type": "stream",
     "text": [
      "The probability of each rating is: \n",
      "           1         2         3         4         5\n",
      "0  0.157557  0.169405  0.294717  0.240696  0.137625\n",
      "\n",
      "The predicted rating is: 3\n"
     ]
    }
   ],
   "source": [
    "print(\"The probability of each rating is: \\n\", probability)\n",
    "print(\"\\nThe predicted rating is:\", result)"
   ]
  },
  {
   "cell_type": "markdown",
   "metadata": {},
   "source": [
    "### 4 Star Rating"
   ]
  },
  {
   "cell_type": "code",
   "execution_count": 486,
   "metadata": {},
   "outputs": [
    {
     "name": "stdout",
     "output_type": "stream",
     "text": [
      "Spotify is a decent app and I recommend it to people looking for a music app. There are infrequent bugs slow the app down. It would be worse without the song selection available\n"
     ]
    },
    {
     "data": {
      "text/plain": [
       "'spotify decent app recommend people looking music app infrequent bugs slow app would worse without song selection available'"
      ]
     },
     "execution_count": 486,
     "metadata": {},
     "output_type": "execute_result"
    }
   ],
   "source": [
    "# takes the user input\n",
    "text_input = pre_process(input().lower())\n",
    "text_input"
   ]
  },
  {
   "cell_type": "code",
   "execution_count": 487,
   "metadata": {},
   "outputs": [],
   "source": [
    "# convert the user input into numeric tensor\n",
    "scores =[1, 2, 3, 4, 5]\n",
    "\n",
    "tk=Tokenizer()\n",
    "\n",
    "tk.fit_on_texts([text_input])\n",
    "\n",
    "text_input_seq = tk.texts_to_sequences([text_input])\n",
    "text_input_pad = pad_sequences(text_input_seq, maxlen=30, padding='post')"
   ]
  },
  {
   "cell_type": "code",
   "execution_count": 488,
   "metadata": {},
   "outputs": [],
   "source": [
    "# show the model output using predict function\n",
    "prediction = final_model.predict(text_input_pad)\n",
    "\n",
    "probability = pd.DataFrame(prediction, columns = scores)\n",
    "result = scores[np.argmax(prediction)]"
   ]
  },
  {
   "cell_type": "code",
   "execution_count": 489,
   "metadata": {},
   "outputs": [
    {
     "name": "stdout",
     "output_type": "stream",
     "text": [
      "The probability of each rating is: \n",
      "           1         2         3         4       5\n",
      "0  0.176201  0.095976  0.120919  0.182604  0.4243\n",
      "\n",
      "The predicted rating is: 5\n"
     ]
    }
   ],
   "source": [
    "print(\"The probability of each rating is: \\n\", probability)\n",
    "print(\"\\nThe predicted rating is:\", result)"
   ]
  },
  {
   "cell_type": "markdown",
   "metadata": {},
   "source": [
    "### 5 Star Rating"
   ]
  },
  {
   "cell_type": "code",
   "execution_count": 477,
   "metadata": {},
   "outputs": [
    {
     "name": "stdout",
     "output_type": "stream",
     "text": [
      "This app is absolutely perfect, the songs that you search are almost always here and in good clarity. Amazing quality here, and also many songs to choose from. \n"
     ]
    },
    {
     "data": {
      "text/plain": [
       "'app absolutely perfect songs search almost always good clarity amazing quality also many songs choose'"
      ]
     },
     "execution_count": 477,
     "metadata": {},
     "output_type": "execute_result"
    }
   ],
   "source": [
    "# takes the user input\n",
    "text_input = pre_process(input().lower())\n",
    "text_input"
   ]
  },
  {
   "cell_type": "code",
   "execution_count": 478,
   "metadata": {},
   "outputs": [],
   "source": [
    "# convert the user input into numeric tensor\n",
    "scores =[1, 2, 3, 4, 5]\n",
    "\n",
    "tk=Tokenizer()\n",
    "\n",
    "tk.fit_on_texts([text_input])\n",
    "\n",
    "text_input_seq = tk.texts_to_sequences([text_input])\n",
    "text_input_pad = pad_sequences(text_input_seq, maxlen=30, padding='post')"
   ]
  },
  {
   "cell_type": "code",
   "execution_count": 479,
   "metadata": {},
   "outputs": [],
   "source": [
    "# show the model output using predict function\n",
    "prediction = final_model.predict(text_input_pad)\n",
    "\n",
    "probability = pd.DataFrame(prediction, columns = scores)\n",
    "result = scores[np.argmax(prediction)]"
   ]
  },
  {
   "cell_type": "code",
   "execution_count": 480,
   "metadata": {},
   "outputs": [
    {
     "name": "stdout",
     "output_type": "stream",
     "text": [
      "The probability of each rating is: \n",
      "           1         2         3        4         5\n",
      "0  0.060024  0.027505  0.040148  0.11892  0.753403\n",
      "\n",
      "The predicted rating is: 5\n"
     ]
    }
   ],
   "source": [
    "print(\"The probability of each rating is: \\n\", probability)\n",
    "print(\"\\nThe predicted rating is:\", result)"
   ]
  }
 ],
 "metadata": {
  "kernelspec": {
   "display_name": "Python 3",
   "language": "python",
   "name": "python3"
  },
  "language_info": {
   "codemirror_mode": {
    "name": "ipython",
    "version": 3
   },
   "file_extension": ".py",
   "mimetype": "text/x-python",
   "name": "python",
   "nbconvert_exporter": "python",
   "pygments_lexer": "ipython3",
   "version": "3.7.10"
  }
 },
 "nbformat": 4,
 "nbformat_minor": 2
}
